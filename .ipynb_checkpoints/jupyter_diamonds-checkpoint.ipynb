{
 "cells": [
  {
   "cell_type": "code",
   "execution_count": 6,
   "id": "8231c8e3-c658-477f-8d57-72d3475fbae4",
   "metadata": {},
   "outputs": [],
   "source": [
    "import matplotlib.pyplot as plt\n",
    "import pandas as pd\n",
    "import numpy as np"
   ]
  },
  {
   "cell_type": "markdown",
   "id": "43e85cfe-34c6-4461-8f57-fa39c67459a0",
   "metadata": {},
   "source": [
    "# Vad är skillnaden på en tuple och list i Python? Är den ena datatypen bättre än den andra?\n",
    "\n"
   ]
  },
  {
   "cell_type": "markdown",
   "id": "a3cf2080-d47d-4bfa-8547-1d98e2c3f014",
   "metadata": {},
   "source": [
    "I en tuple kan man inte ändra värden medans i en list så kan man ändra värden, ingen av dom är bättre än varandra det handlar mest om vad man ska använda det till"
   ]
  },
  {
   "cell_type": "markdown",
   "id": "e7efd751-3745-498f-96ed-ca3f245b56e5",
   "metadata": {},
   "source": [
    "# Vad är en funktion för något? Varför kan funktioner vara användbara? "
   ]
  },
  {
   "cell_type": "markdown",
   "id": "777db7ac-72e4-48f6-84cd-adb173808db4",
   "metadata": {},
   "source": [
    "En funktion är något som utgör kommandon och returnerar ett värdet, det är bra att använda funktioner när man ska använda funktionen flertal gånger för renare kod."
   ]
  },
  {
   "cell_type": "markdown",
   "id": "0e6e3684-abd4-44e9-aab7-d01867f79833",
   "metadata": {},
   "source": [
    "# Förklara vad nedanstående begrepp, kopplat till klasser, betyder:\n",
    "a) Instans\n",
    "b) Attribut\n",
    "c) Metod\n",
    "\n"
   ]
  },
  {
   "cell_type": "markdown",
   "id": "36e7dc5a-c180-4f4c-b782-6d910eb1edf4",
   "metadata": {},
   "source": [
    "a = instanser är ett objekt som är skapat ifrån klassen\n",
    "b = Attribut är en variabel som tillhör en klass som alla instanser också får\n",
    "c = metod är en funktion som tillhör en specifik klass"
   ]
  },
  {
   "cell_type": "markdown",
   "id": "294ea09e-e765-489b-988e-81c85bd7d2e0",
   "metadata": {},
   "source": [
    "# Vad är Streamlit för något?\n"
   ]
  },
  {
   "cell_type": "markdown",
   "id": "21d7a5c3-1383-40a4-a31d-1d8cc3b263c5",
   "metadata": {},
   "source": [
    "Det är för att skapa webbplatser och för att representera data"
   ]
  },
  {
   "cell_type": "markdown",
   "id": "f62d6a46-bc24-453a-88ab-7db1b52410ef",
   "metadata": {},
   "source": [
    "# I Python ska du nu:\n",
    "a) Skapa en klass som heter BankAccount. Klassen skall ha attributet \"account_holder\"\n",
    "som visar kontoinnehavarens namn samt attributet \"balance\" som visar\n",
    "kontoinnehavarens balans. Klassen skall ha metoden \"deposit()\" för att kunna sätta in\n",
    "pengar på kontot samt metoden \"withdraw()\" för att kunna ta ut pengar från kontot. Om\n",
    "bankinnehavaren försöker ta ut mer pengar än vad som finns på kontot skall\n",
    "meddelandet \"Too low balance\" printas ut.\n",
    "\n",
    "b) Skapa en instans av klassen och testa så klassen funkar så som du förväntar dig. Du\n",
    "kan till exempel prova printa ut attributen, sätta in pengar och ta ut pengar.\n"
   ]
  },
  {
   "cell_type": "code",
   "execution_count": 14,
   "id": "11d827c1-041b-4981-bc40-4957e9c990ec",
   "metadata": {},
   "outputs": [
    {
     "name": "stdout",
     "output_type": "stream",
     "text": [
      "1000\n",
      "1100\n",
      "Too low balance\n",
      "300\n"
     ]
    }
   ],
   "source": [
    "class BankAccount():\n",
    "    def __init__(self, account_holder, balance):\n",
    "        self.account_holder = account_holder\n",
    "        self.balance = balance\n",
    "\n",
    "    def deposit(self, cash):\n",
    "        self.balance += cash\n",
    "        return self.balance\n",
    "\n",
    "    def withdraw(self, cash):\n",
    "        if  self.balance - cash > 0:\n",
    "            self.balance -= cash\n",
    "            return self.balance\n",
    "        else:\n",
    "            return print(\"Too low balance\")\n",
    "\n",
    "\n",
    "Account = BankAccount(\"Tim\", 1000)\n",
    "print(Account.balance)\n",
    "\n",
    "print(Account.deposit(100))\n",
    "Account.withdraw(1200)\n",
    "print(Account.withdraw(800))\n"
   ]
  },
  {
   "cell_type": "markdown",
   "id": "02710156-d4a7-433c-88da-17064c2935e6",
   "metadata": {},
   "source": [
    "# På intervjuer brukar ibland kodtest genomföras. Här är ett exempel på en fråga som hade\n",
    "kunnat dyka upp på ett kodtest.\n",
    "Skapa en Python funktion som beräknar antalet vokaler i en sträng. Vokalerna är:\n",
    "A, E, I, O, U, Y, Å, Ä och Ö.\n",
    "2/3\n",
    "Exempelvis: vowel_checker(’hjärna’) ska returnera ”2” eftersom ordet ”hjärna” har de två\n",
    "vokalerna ”ä” och ”a”. "
   ]
  },
  {
   "cell_type": "code",
   "execution_count": 46,
   "id": "06d547ad-6f3c-49cd-81c6-60c4f3a96cf1",
   "metadata": {},
   "outputs": [
    {
     "name": "stdout",
     "output_type": "stream",
     "text": [
      "3\n"
     ]
    }
   ],
   "source": [
    "def vowel_check(word):\n",
    "    vowel_list = [ 'A', 'E', 'I', 'O', 'U', 'Y', 'Å', 'Ä', 'Ö']\n",
    "    counter = 0\n",
    "\n",
    "    for x in word.upper():\n",
    "        if x in vowel_list:\n",
    "            counter += 1\n",
    "\n",
    "    return counter\n",
    "\n",
    "\n",
    "print(vowel_check('AEIMMN'))"
   ]
  },
  {
   "cell_type": "markdown",
   "id": "0a358093-81aa-4472-8ea5-1046cd51e9e8",
   "metadata": {},
   "source": [
    "# På intervjuer brukar ibland kodtest genomföras. Här är ett exempel på en fråga som hade\n",
    "kunnat dyka upp på ett kodtest.\n",
    "Skapa en funktion som tar två listor som argument och returnerar de gemensamma\n",
    "elementen i listorna i en ny lista.\n",
    "Exempelvis:\n",
    "common_elements([4, ’apple’, 10, ’hi’, 3], ([23 ’apple’, 5, 9, 3]) ska returnera svaret\n",
    "[’apple’, 3].\n"
   ]
  },
  {
   "cell_type": "code",
   "execution_count": 58,
   "id": "5207e4f2-434a-4c28-be54-6f7b2744097e",
   "metadata": {},
   "outputs": [
    {
     "data": {
      "text/plain": [
       "[1, 2, 'hej']"
      ]
     },
     "execution_count": 58,
     "metadata": {},
     "output_type": "execute_result"
    }
   ],
   "source": [
    "def combine_list(list1, list2):\n",
    "    common = list(set(list1) & set(list2))\n",
    "    return common\n",
    "\n",
    "a = [1, 2, 3, 'hej', 5]\n",
    "b = [1, 2, 6, 7, 'hej']\n",
    "\n",
    "combine_list(a, b)"
   ]
  },
  {
   "cell_type": "markdown",
   "id": "de940d2c-b64d-4315-b7c8-7e1b80ce5c8f",
   "metadata": {},
   "source": [
    "# Många barn tror att de blev till genom att en stork kom och lämnade dem till deras föräldrar. För att undersöka det kan vi kolla på data och det finns en graf enligt figuren nedan. Det verkar alltså finnas ett samband mellan antalet storkar och barnafödsel!? Stämmer påståendet? Använd begreppet ”kausalitet” i ditt svar. "
   ]
  },
  {
   "cell_type": "markdown",
   "id": "99a4409d-c835-4dc4-a12e-6c723bbee723",
   "metadata": {},
   "source": [
    "Grafen visar att det finns en korrelation mellan antalet storkpar och antalet födslar när antalet storkar ökar så ökar födslar också.\n",
    "Men det betyder inte att det finns kausalitet alltså att antalet storkpar ökar antalet barn födslar rent logiskt."
   ]
  },
  {
   "cell_type": "markdown",
   "id": "a0615698-d44f-419a-97a3-09f05835aece",
   "metadata": {},
   "source": [
    "# Kim påstår att ”medelvärdet” är ett bättre mått än ”medianvärdet”. Håller du med Kalle?"
   ]
  },
  {
   "cell_type": "markdown",
   "id": "8c11fe08-97c5-403c-b3df-e3befb1fe10c",
   "metadata": {},
   "source": [
    "Jag håller med att medelvärdet ofta kan vara ett bra mått eftersom det ger en bra överblick över alla värden, och ger en rättvis bild över hur \n",
    "det ser ut i dom flesta fallen, men medelvärdete kan påverkas utav outliers värden (extremt höga/låga värden). I sånna fall skulle medianen vara bättre,\n",
    "även ifall jag tycker att medelvärdet är mer användbart beror det lite på sammanhanget vilket mått som passar bäst."
   ]
  },
  {
   "cell_type": "markdown",
   "id": "c3d393f4-b472-46c8-bdc8-94738b80df36",
   "metadata": {},
   "source": [
    "# Vad används cirkeldiagram för? Ge ett exempel på vad ett företag som Spotify (eller något annat företag som du själv väljer) hade kunnat använda cirkeldiagram för. "
   ]
  },
  {
   "cell_type": "markdown",
   "id": "bf9ea59f-8525-4553-a98a-3126e0b19565",
   "metadata": {},
   "source": [
    "Cirkeldiagram används för att visuellt med färger i en cirkel för att visa hur olika delar håller sig till helhet, varje del av cirkeln representerar en andel. Spotify skulle kunna använda det för att vissa vilka musik genrar som är mest lyssnade på, dom skulle kunna visa ett cirkeldiagram baserat på värdsdelar eller länder för att få en bild över hur många använder lyssnare per värdsdel eller land för att sedan kunna ge bättre erbjudanden eller priser för att locka in fler användare."
   ]
  },
  {
   "cell_type": "markdown",
   "id": "2835ca49-50b0-4c65-b3f6-a73dda186365",
   "metadata": {},
   "source": [
    "# Vad används linjediagram för? Ge ett exempel på vad ett företag som Spotify (eller något annat företag som du själv väljer) hade kunnat använda linjediagram för.\n"
   ]
  },
  {
   "cell_type": "markdown",
   "id": "6b653805-2ecb-4b5f-bbc3-bb68bce1cbeb",
   "metadata": {},
   "source": [
    "Linjediagram används för att visa hur något förändras över tid, det är ett bra sätt för att se trender tex om något ökar, går ner eller är stabilt.\n",
    "Spotify skulle kunna använda det för att se hur deras vinstmarginal förändras varje år och sedan göra justeringar om det skulle gå ner."
   ]
  },
  {
   "cell_type": "markdown",
   "id": "c7564c63-85a9-4372-bfff-f55ac7cb409c",
   "metadata": {},
   "source": [
    "# Vad används lådagram för? "
   ]
  },
  {
   "cell_type": "markdown",
   "id": "8d511756-6a40-425b-a22b-e38854ced057",
   "metadata": {},
   "source": [
    "Lådagram används för att visa hur data är fördelad, man kan se vad dom är lägst och högst, medianen (mittenvärdet), hur utspridda värdena är och om det finns extremt låga värden eller höga"
   ]
  },
  {
   "cell_type": "markdown",
   "id": "917690a3-7d55-4019-a80d-8dcaeb682d77",
   "metadata": {},
   "source": [
    "# Diamonds"
   ]
  },
  {
   "cell_type": "code",
   "execution_count": 22,
   "id": "bde84605-2c13-405f-83f7-f2d65f84ce91",
   "metadata": {},
   "outputs": [],
   "source": [
    "data_diamonds = pd.read_csv('diamonds.csv', sep=';')"
   ]
  },
  {
   "cell_type": "code",
   "execution_count": 24,
   "id": "8e184b4a-e543-46a1-8929-8756376e6ff0",
   "metadata": {},
   "outputs": [
    {
     "data": {
      "text/plain": [
       "Unnamed: 0     0\n",
       "carat         22\n",
       "cut            1\n",
       "color          4\n",
       "clarity       30\n",
       "depth          6\n",
       "table          5\n",
       "price         12\n",
       "x              3\n",
       "y              4\n",
       "z              3\n",
       "dtype: int64"
      ]
     },
     "execution_count": 24,
     "metadata": {},
     "output_type": "execute_result"
    }
   ],
   "source": [
    "data_diamonds.isnull().sum()"
   ]
  },
  {
   "cell_type": "code",
   "execution_count": 45,
   "id": "e604f9dc-2dd3-4b0f-9231-06d5865f5592",
   "metadata": {},
   "outputs": [],
   "source": [
    "data_diamonds = data_diamonds.dropna() #Dropping rows that has a missing value for more accurate diagrams"
   ]
  },
  {
   "cell_type": "code",
   "execution_count": 47,
   "id": "5321a651-3bf0-4154-bd29-4dc025064f7b",
   "metadata": {},
   "outputs": [
    {
     "data": {
      "text/html": [
       "<div>\n",
       "<style scoped>\n",
       "    .dataframe tbody tr th:only-of-type {\n",
       "        vertical-align: middle;\n",
       "    }\n",
       "\n",
       "    .dataframe tbody tr th {\n",
       "        vertical-align: top;\n",
       "    }\n",
       "\n",
       "    .dataframe thead th {\n",
       "        text-align: right;\n",
       "    }\n",
       "</style>\n",
       "<table border=\"1\" class=\"dataframe\">\n",
       "  <thead>\n",
       "    <tr style=\"text-align: right;\">\n",
       "      <th></th>\n",
       "      <th>Unnamed: 0</th>\n",
       "      <th>carat</th>\n",
       "      <th>depth</th>\n",
       "      <th>table</th>\n",
       "      <th>price</th>\n",
       "      <th>x</th>\n",
       "      <th>y</th>\n",
       "      <th>z</th>\n",
       "    </tr>\n",
       "  </thead>\n",
       "  <tbody>\n",
       "    <tr>\n",
       "      <th>count</th>\n",
       "      <td>53844.000000</td>\n",
       "      <td>53844.000000</td>\n",
       "      <td>53844.000000</td>\n",
       "      <td>53844.000000</td>\n",
       "      <td>53844.000000</td>\n",
       "      <td>53844.000000</td>\n",
       "      <td>53844.000000</td>\n",
       "      <td>53844.000000</td>\n",
       "    </tr>\n",
       "    <tr>\n",
       "      <th>mean</th>\n",
       "      <td>26969.754309</td>\n",
       "      <td>0.797870</td>\n",
       "      <td>61.749779</td>\n",
       "      <td>57.457056</td>\n",
       "      <td>3932.989971</td>\n",
       "      <td>5.731894</td>\n",
       "      <td>5.735158</td>\n",
       "      <td>3.540229</td>\n",
       "    </tr>\n",
       "    <tr>\n",
       "      <th>std</th>\n",
       "      <td>15558.662778</td>\n",
       "      <td>0.474013</td>\n",
       "      <td>1.432154</td>\n",
       "      <td>2.234143</td>\n",
       "      <td>3989.420879</td>\n",
       "      <td>1.119839</td>\n",
       "      <td>1.140575</td>\n",
       "      <td>0.702801</td>\n",
       "    </tr>\n",
       "    <tr>\n",
       "      <th>min</th>\n",
       "      <td>1.000000</td>\n",
       "      <td>0.200000</td>\n",
       "      <td>43.000000</td>\n",
       "      <td>43.000000</td>\n",
       "      <td>326.000000</td>\n",
       "      <td>3.730000</td>\n",
       "      <td>3.680000</td>\n",
       "      <td>1.070000</td>\n",
       "    </tr>\n",
       "    <tr>\n",
       "      <th>25%</th>\n",
       "      <td>13498.750000</td>\n",
       "      <td>0.400000</td>\n",
       "      <td>61.000000</td>\n",
       "      <td>56.000000</td>\n",
       "      <td>949.000000</td>\n",
       "      <td>4.710000</td>\n",
       "      <td>4.720000</td>\n",
       "      <td>2.910000</td>\n",
       "    </tr>\n",
       "    <tr>\n",
       "      <th>50%</th>\n",
       "      <td>26967.500000</td>\n",
       "      <td>0.700000</td>\n",
       "      <td>61.800000</td>\n",
       "      <td>57.000000</td>\n",
       "      <td>2400.000000</td>\n",
       "      <td>5.700000</td>\n",
       "      <td>5.710000</td>\n",
       "      <td>3.530000</td>\n",
       "    </tr>\n",
       "    <tr>\n",
       "      <th>75%</th>\n",
       "      <td>40442.250000</td>\n",
       "      <td>1.040000</td>\n",
       "      <td>62.500000</td>\n",
       "      <td>59.000000</td>\n",
       "      <td>5329.000000</td>\n",
       "      <td>6.540000</td>\n",
       "      <td>6.540000</td>\n",
       "      <td>4.040000</td>\n",
       "    </tr>\n",
       "    <tr>\n",
       "      <th>max</th>\n",
       "      <td>53918.000000</td>\n",
       "      <td>5.010000</td>\n",
       "      <td>79.000000</td>\n",
       "      <td>95.000000</td>\n",
       "      <td>18823.000000</td>\n",
       "      <td>10.740000</td>\n",
       "      <td>58.900000</td>\n",
       "      <td>31.800000</td>\n",
       "    </tr>\n",
       "  </tbody>\n",
       "</table>\n",
       "</div>"
      ],
      "text/plain": [
       "         Unnamed: 0         carat         depth         table         price  \\\n",
       "count  53844.000000  53844.000000  53844.000000  53844.000000  53844.000000   \n",
       "mean   26969.754309      0.797870     61.749779     57.457056   3932.989971   \n",
       "std    15558.662778      0.474013      1.432154      2.234143   3989.420879   \n",
       "min        1.000000      0.200000     43.000000     43.000000    326.000000   \n",
       "25%    13498.750000      0.400000     61.000000     56.000000    949.000000   \n",
       "50%    26967.500000      0.700000     61.800000     57.000000   2400.000000   \n",
       "75%    40442.250000      1.040000     62.500000     59.000000   5329.000000   \n",
       "max    53918.000000      5.010000     79.000000     95.000000  18823.000000   \n",
       "\n",
       "                  x             y             z  \n",
       "count  53844.000000  53844.000000  53844.000000  \n",
       "mean       5.731894      5.735158      3.540229  \n",
       "std        1.119839      1.140575      0.702801  \n",
       "min        3.730000      3.680000      1.070000  \n",
       "25%        4.710000      4.720000      2.910000  \n",
       "50%        5.700000      5.710000      3.530000  \n",
       "75%        6.540000      6.540000      4.040000  \n",
       "max       10.740000     58.900000     31.800000  "
      ]
     },
     "execution_count": 47,
     "metadata": {},
     "output_type": "execute_result"
    }
   ],
   "source": [
    "data_diamonds.describe()"
   ]
  },
  {
   "cell_type": "code",
   "execution_count": 120,
   "id": "7a0c80a3-004c-4f8b-9c57-ef90468b65a6",
   "metadata": {},
   "outputs": [
    {
     "data": {
      "text/html": [
       "<div>\n",
       "<style scoped>\n",
       "    .dataframe tbody tr th:only-of-type {\n",
       "        vertical-align: middle;\n",
       "    }\n",
       "\n",
       "    .dataframe tbody tr th {\n",
       "        vertical-align: top;\n",
       "    }\n",
       "\n",
       "    .dataframe thead th {\n",
       "        text-align: right;\n",
       "    }\n",
       "</style>\n",
       "<table border=\"1\" class=\"dataframe\">\n",
       "  <thead>\n",
       "    <tr style=\"text-align: right;\">\n",
       "      <th></th>\n",
       "      <th>Unnamed: 0</th>\n",
       "      <th>carat</th>\n",
       "      <th>cut</th>\n",
       "      <th>color</th>\n",
       "      <th>clarity</th>\n",
       "      <th>depth</th>\n",
       "      <th>table</th>\n",
       "      <th>price</th>\n",
       "      <th>x</th>\n",
       "      <th>y</th>\n",
       "      <th>z</th>\n",
       "    </tr>\n",
       "  </thead>\n",
       "  <tbody>\n",
       "  </tbody>\n",
       "</table>\n",
       "</div>"
      ],
      "text/plain": [
       "Empty DataFrame\n",
       "Columns: [Unnamed: 0, carat, cut, color, clarity, depth, table, price, x, y, z]\n",
       "Index: []"
      ]
     },
     "execution_count": 120,
     "metadata": {},
     "output_type": "execute_result"
    }
   ],
   "source": [
    "data_diamonds.loc[data_diamonds['x'] == 0]\n",
    "data_diamonds.loc[data_diamonds['y'] == 0]\n",
    "data_diamonds.loc[data_diamonds['z'] == 0]"
   ]
  },
  {
   "cell_type": "code",
   "execution_count": 62,
   "id": "19c97697-55f0-4730-919a-e2cf26519c46",
   "metadata": {},
   "outputs": [
    {
     "data": {
      "text/html": [
       "<div>\n",
       "<style scoped>\n",
       "    .dataframe tbody tr th:only-of-type {\n",
       "        vertical-align: middle;\n",
       "    }\n",
       "\n",
       "    .dataframe tbody tr th {\n",
       "        vertical-align: top;\n",
       "    }\n",
       "\n",
       "    .dataframe thead th {\n",
       "        text-align: right;\n",
       "    }\n",
       "</style>\n",
       "<table border=\"1\" class=\"dataframe\">\n",
       "  <thead>\n",
       "    <tr style=\"text-align: right;\">\n",
       "      <th></th>\n",
       "      <th>Unnamed: 0</th>\n",
       "      <th>carat</th>\n",
       "      <th>cut</th>\n",
       "      <th>color</th>\n",
       "      <th>clarity</th>\n",
       "      <th>depth</th>\n",
       "      <th>table</th>\n",
       "      <th>price</th>\n",
       "      <th>x</th>\n",
       "      <th>y</th>\n",
       "      <th>z</th>\n",
       "    </tr>\n",
       "  </thead>\n",
       "  <tbody>\n",
       "    <tr>\n",
       "      <th>0</th>\n",
       "      <td>1</td>\n",
       "      <td>0.23</td>\n",
       "      <td>Ideal</td>\n",
       "      <td>E</td>\n",
       "      <td>SI2</td>\n",
       "      <td>61.5</td>\n",
       "      <td>55.0</td>\n",
       "      <td>326.0</td>\n",
       "      <td>3.95</td>\n",
       "      <td>3.98</td>\n",
       "      <td>2.43</td>\n",
       "    </tr>\n",
       "    <tr>\n",
       "      <th>1</th>\n",
       "      <td>2</td>\n",
       "      <td>0.21</td>\n",
       "      <td>Premium</td>\n",
       "      <td>E</td>\n",
       "      <td>SI1</td>\n",
       "      <td>59.8</td>\n",
       "      <td>61.0</td>\n",
       "      <td>326.0</td>\n",
       "      <td>3.89</td>\n",
       "      <td>3.84</td>\n",
       "      <td>2.31</td>\n",
       "    </tr>\n",
       "    <tr>\n",
       "      <th>2</th>\n",
       "      <td>3</td>\n",
       "      <td>0.23</td>\n",
       "      <td>Good</td>\n",
       "      <td>E</td>\n",
       "      <td>VS1</td>\n",
       "      <td>56.9</td>\n",
       "      <td>65.0</td>\n",
       "      <td>327.0</td>\n",
       "      <td>4.05</td>\n",
       "      <td>4.07</td>\n",
       "      <td>2.31</td>\n",
       "    </tr>\n",
       "    <tr>\n",
       "      <th>4</th>\n",
       "      <td>5</td>\n",
       "      <td>0.31</td>\n",
       "      <td>Good</td>\n",
       "      <td>J</td>\n",
       "      <td>SI2</td>\n",
       "      <td>63.3</td>\n",
       "      <td>58.0</td>\n",
       "      <td>335.0</td>\n",
       "      <td>4.34</td>\n",
       "      <td>4.35</td>\n",
       "      <td>2.75</td>\n",
       "    </tr>\n",
       "    <tr>\n",
       "      <th>5</th>\n",
       "      <td>6</td>\n",
       "      <td>0.24</td>\n",
       "      <td>Very Good</td>\n",
       "      <td>J</td>\n",
       "      <td>VVS2</td>\n",
       "      <td>62.8</td>\n",
       "      <td>57.0</td>\n",
       "      <td>336.0</td>\n",
       "      <td>3.94</td>\n",
       "      <td>3.96</td>\n",
       "      <td>2.48</td>\n",
       "    </tr>\n",
       "    <tr>\n",
       "      <th>...</th>\n",
       "      <td>...</td>\n",
       "      <td>...</td>\n",
       "      <td>...</td>\n",
       "      <td>...</td>\n",
       "      <td>...</td>\n",
       "      <td>...</td>\n",
       "      <td>...</td>\n",
       "      <td>...</td>\n",
       "      <td>...</td>\n",
       "      <td>...</td>\n",
       "      <td>...</td>\n",
       "    </tr>\n",
       "    <tr>\n",
       "      <th>53913</th>\n",
       "      <td>53914</td>\n",
       "      <td>0.80</td>\n",
       "      <td>Good</td>\n",
       "      <td>G</td>\n",
       "      <td>VS2</td>\n",
       "      <td>64.2</td>\n",
       "      <td>58.0</td>\n",
       "      <td>2753.0</td>\n",
       "      <td>5.84</td>\n",
       "      <td>5.81</td>\n",
       "      <td>3.74</td>\n",
       "    </tr>\n",
       "    <tr>\n",
       "      <th>53914</th>\n",
       "      <td>53915</td>\n",
       "      <td>0.84</td>\n",
       "      <td>Good</td>\n",
       "      <td>I</td>\n",
       "      <td>VS1</td>\n",
       "      <td>63.7</td>\n",
       "      <td>59.0</td>\n",
       "      <td>2753.0</td>\n",
       "      <td>5.94</td>\n",
       "      <td>5.90</td>\n",
       "      <td>3.77</td>\n",
       "    </tr>\n",
       "    <tr>\n",
       "      <th>53915</th>\n",
       "      <td>53916</td>\n",
       "      <td>0.77</td>\n",
       "      <td>Ideal</td>\n",
       "      <td>E</td>\n",
       "      <td>SI2</td>\n",
       "      <td>62.1</td>\n",
       "      <td>56.0</td>\n",
       "      <td>2753.0</td>\n",
       "      <td>5.84</td>\n",
       "      <td>5.86</td>\n",
       "      <td>3.63</td>\n",
       "    </tr>\n",
       "    <tr>\n",
       "      <th>53916</th>\n",
       "      <td>53917</td>\n",
       "      <td>0.74</td>\n",
       "      <td>Good</td>\n",
       "      <td>D</td>\n",
       "      <td>SI1</td>\n",
       "      <td>63.1</td>\n",
       "      <td>59.0</td>\n",
       "      <td>2753.0</td>\n",
       "      <td>5.71</td>\n",
       "      <td>5.74</td>\n",
       "      <td>3.61</td>\n",
       "    </tr>\n",
       "    <tr>\n",
       "      <th>53917</th>\n",
       "      <td>53918</td>\n",
       "      <td>0.90</td>\n",
       "      <td>Very Good</td>\n",
       "      <td>J</td>\n",
       "      <td>SI1</td>\n",
       "      <td>63.2</td>\n",
       "      <td>60.0</td>\n",
       "      <td>2753.0</td>\n",
       "      <td>6.12</td>\n",
       "      <td>6.09</td>\n",
       "      <td>3.86</td>\n",
       "    </tr>\n",
       "  </tbody>\n",
       "</table>\n",
       "<p>53844 rows × 11 columns</p>\n",
       "</div>"
      ],
      "text/plain": [
       "       Unnamed: 0  carat        cut color clarity  depth  table   price     x  \\\n",
       "0               1   0.23      Ideal     E     SI2   61.5   55.0   326.0  3.95   \n",
       "1               2   0.21    Premium     E     SI1   59.8   61.0   326.0  3.89   \n",
       "2               3   0.23       Good     E     VS1   56.9   65.0   327.0  4.05   \n",
       "4               5   0.31       Good     J     SI2   63.3   58.0   335.0  4.34   \n",
       "5               6   0.24  Very Good     J    VVS2   62.8   57.0   336.0  3.94   \n",
       "...           ...    ...        ...   ...     ...    ...    ...     ...   ...   \n",
       "53913       53914   0.80       Good     G     VS2   64.2   58.0  2753.0  5.84   \n",
       "53914       53915   0.84       Good     I     VS1   63.7   59.0  2753.0  5.94   \n",
       "53915       53916   0.77      Ideal     E     SI2   62.1   56.0  2753.0  5.84   \n",
       "53916       53917   0.74       Good     D     SI1   63.1   59.0  2753.0  5.71   \n",
       "53917       53918   0.90  Very Good     J     SI1   63.2   60.0  2753.0  6.12   \n",
       "\n",
       "          y     z  \n",
       "0      3.98  2.43  \n",
       "1      3.84  2.31  \n",
       "2      4.07  2.31  \n",
       "4      4.35  2.75  \n",
       "5      3.96  2.48  \n",
       "...     ...   ...  \n",
       "53913  5.81  3.74  \n",
       "53914  5.90  3.77  \n",
       "53915  5.86  3.63  \n",
       "53916  5.74  3.61  \n",
       "53917  6.09  3.86  \n",
       "\n",
       "[53844 rows x 11 columns]"
      ]
     },
     "execution_count": 62,
     "metadata": {},
     "output_type": "execute_result"
    }
   ],
   "source": [
    "data_diamonds.query('x > 0 and y > 0 and z > 0')"
   ]
  },
  {
   "cell_type": "markdown",
   "id": "4f44aa4d-9154-4b7b-90df-ef22f86db6f2",
   "metadata": {},
   "source": [
    "# Diagrams"
   ]
  },
  {
   "cell_type": "code",
   "execution_count": 73,
   "id": "b54a59ff-7e24-4668-b16d-8b35f02bc7f7",
   "metadata": {},
   "outputs": [
    {
     "data": {
      "image/png": "[encoded data removed]",
      "text/plain": [
       "<Figure size 640x480 with 1 Axes>"
      ]
     },
     "metadata": {},
     "output_type": "display_data"
    }
   ],
   "source": [
    "plt.scatter(data_diamonds['carat'], data_diamonds['price'])\n",
    "plt.xlabel('carat')\n",
    "plt.ylabel('price')\n",
    "plt.title('Scatterplot: carat vs price')\n",
    "plt.show()"
   ]
  },
  {
   "cell_type": "code",
   "execution_count": 117,
   "id": "d3444c8f-ba2f-40ea-b84e-53ddca514e92",
   "metadata": {},
   "outputs": [
    {
     "data": {
      "text/plain": [
       "Text(0.5, 0.98, 'Price depending on cut, color and clarity')"
      ]
     },
     "execution_count": 117,
     "metadata": {},
     "output_type": "execute_result"
    },
    {
     "data": {
      "image/png": "[encoded data removed]",
      "text/plain": [
       "<Figure size 1400x1000 with 4 Axes>"
      ]
     },
     "metadata": {},
     "output_type": "display_data"
    }
   ],
   "source": [
    "fig, axes = plt.subplots(nrows=2, ncols=2, figsize=(14, 10))\n",
    "\n",
    "axes = axes.flatten()\n",
    "\n",
    "data_diamonds.boxplot(column='price', by='cut', ax=axes[0])\n",
    "axes[0].set_title('Price depending on cut')\n",
    "axes[0].set_xlabel('Cut')\n",
    "axes[0].set_ylabel('Price')\n",
    "\n",
    "data_diamonds.boxplot(column='price', by='color', ax=axes[1])\n",
    "axes[1].set_title('Price depending on color')\n",
    "axes[1].set_xlabel('Color')\n",
    "axes[1].set_ylabel('Price')\n",
    "\n",
    "data_diamonds.boxplot(column='price', by='clarity', ax=axes[2])\n",
    "axes[2].set_title('Price depending on clarity')\n",
    "axes[2].set_xlabel('Clarity')\n",
    "axes[2].set_ylabel('Price')\n",
    "\n",
    "axes[3].axis('off')\n",
    "\n",
    "plt.suptitle('Price depending on cut, color and clarity')"
   ]
  },
  {
   "cell_type": "markdown",
   "id": "21dea63e-e6cc-4258-bf55-2cc2837f162c",
   "metadata": {},
   "source": []
  },
  {
   "cell_type": "code",
   "execution_count": null,
   "id": "502a3ca7-9b61-4df4-aa80-c192a648a1dc",
   "metadata": {},
   "outputs": [],
   "source": [
    "data_diamonds['price_per_carat'] = data_diamonds['price'] / data_diamonds['carat']"
   ]
  }
 ],
 "metadata": {
  "kernelspec": {
   "display_name": "Python 3 (ipykernel)",
   "language": "python",
   "name": "python3"
  },
  "language_info": {
   "codemirror_mode": {
    "name": "ipython",
    "version": 3
   },
   "file_extension": ".py",
   "mimetype": "text/x-python",
   "name": "python",
   "nbconvert_exporter": "python",
   "pygments_lexer": "ipython3",
   "version": "3.12.7"
  }
 },
 "nbformat": 4,
 "nbformat_minor": 5
}
